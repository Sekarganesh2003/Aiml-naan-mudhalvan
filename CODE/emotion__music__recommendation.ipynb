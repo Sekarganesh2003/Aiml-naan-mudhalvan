{
  "metadata": {
    "kernelspec": {
      "language": "python",
      "display_name": "Python 3",
      "name": "python3"
    },
    "language_info": {
      "name": "python",
      "version": "3.7.12",
      "mimetype": "text/x-python",
      "codemirror_mode": {
        "name": "ipython",
        "version": 3
      },
      "pygments_lexer": "ipython3",
      "nbconvert_exporter": "python",
      "file_extension": ".py"
    },
    "kaggle": {
      "accelerator": "none",
      "dataSources": [
        {
          "sourceId": 1351797,
          "sourceType": "datasetVersion",
          "datasetId": 786787
        },
        {
          "sourceId": 1708668,
          "sourceType": "datasetVersion",
          "datasetId": 1012989
        }
      ],
      "dockerImageVersionId": 30301,
      "isInternetEnabled": false,
      "language": "python",
      "sourceType": "notebook",
      "isGpuEnabled": false
    },
    "colab": {
      "provenance": []
    }
  },
  "nbformat_minor": 0,
  "nbformat": 4,
  "cells": [
    {
      "source": [
        "import os\n",
        "import sys\n",
        "from tempfile import NamedTemporaryFile\n",
        "from urllib.request import urlopen\n",
        "from urllib.parse import unquote, urlparse\n",
        "from urllib.error import HTTPError\n",
        "from zipfile import ZipFile\n",
        "import tarfile\n",
        "import shutil\n",
        "\n",
        "CHUNK_SIZE = 40960\n",
        "DATA_SOURCE_MAPPING = 'fer2013:https%3A%2F%2Fstorage.googleapis.com%2Fkaggle-data-sets%2F786787%2F1351797%2Fbundle%2Farchive.zip%3FX-Goog-Algorithm%3DGOOG4-RSA-SHA256%26X-Goog-Credential%3Dgcp-kaggle-com%2540kaggle-161607.iam.gserviceaccount.com%252F20240404%252Fauto%252Fstorage%252Fgoog4_request%26X-Goog-Date%3D20240404T182628Z%26X-Goog-Expires%3D259200%26X-Goog-SignedHeaders%3Dhost%26X-Goog-Signature%3D2de869d0487e67afcb4799889dd6a2e7dc8e8e9135a80690d49d7334c56c11694867dba05dbaa469e9638240816ecf41a23b9047a73183440306b6a74ea67be6ad9c6cc2665d74a3dd55b7adfef656dd6f7d15fa4504f786c89a66cc14a39580d1826a223de9a781bc4da4262828bd600ab4c01a1db8ffa740ce0378d49df8adb5495b349e9792e658738441b98801a83ac6fa6203aaa6b4032465e65b0fe5f9d4a547bd8701462db39dce3c3a63127ccba153e829919c926b31d1a4b86afd81b25895da412d729d5765a16515d7a881f8a11a74d5e33617dd9c236f043f826eb3be8b2cdc7a006745161f40c6a741dc7ad05402d435d6dd4d9a6a13cc4bfa97,spotify-music-data-to-identify-the-moods:https%3A%2F%2Fstorage.googleapis.com%2Fkaggle-data-sets%2F1012989%2F1708668%2Fbundle%2Farchive.zip%3FX-Goog-Algorithm%3DGOOG4-RSA-SHA256%26X-Goog-Credential%3Dgcp-kaggle-com%2540kaggle-161607.iam.gserviceaccount.com%252F20240404%252Fauto%252Fstorage%252Fgoog4_request%26X-Goog-Date%3D20240404T182628Z%26X-Goog-Expires%3D259200%26X-Goog-SignedHeaders%3Dhost%26X-Goog-Signature%3D051d46c7f7020b210b1e3bf5459eb6c258cba2a84b5faf7789b7dd97d7ca1b78792c11c336295b9a02e2333da8a7de7a8c6e3219e671cfb1aa7601e61b92e31fceab48112f7d6baaf392ac8cacfb5ab8733e4d17f032fc77539370e6bb05b47323de9b9cdc43ed1f45d73df88f47bdf85b30738ff00b71ce4cc2710bd05a4c494054716a0c312ec35a7175d38b5be2d76e25cc637867defd8b1d53b5b82031229ff164594af205c23d6f937923c3f0147d111857ff0ec804923e217659a212c1e21f3d950bdd1285dafe3b150d251ea8502a1855b0242d6db3f98b829eb0e8df1e633084801b4dfafac4fa35b573d8c7add397ee1fa9ea7618a5d266dc16554b'\n",
        "\n",
        "KAGGLE_INPUT_PATH='/kaggle/input'\n",
        "KAGGLE_WORKING_PATH='/kaggle/working'\n",
        "KAGGLE_SYMLINK='kaggle'\n",
        "\n",
        "!umount /kaggle/input/ 2> /dev/null\n",
        "shutil.rmtree('/kaggle/input', ignore_errors=True)\n",
        "os.makedirs(KAGGLE_INPUT_PATH, 0o777, exist_ok=True)\n",
        "os.makedirs(KAGGLE_WORKING_PATH, 0o777, exist_ok=True)\n",
        "\n",
        "try:\n",
        "  os.symlink(KAGGLE_INPUT_PATH, os.path.join(\"..\", 'input'), target_is_directory=True)\n",
        "except FileExistsError:\n",
        "  pass\n",
        "try:\n",
        "  os.symlink(KAGGLE_WORKING_PATH, os.path.join(\"..\", 'working'), target_is_directory=True)\n",
        "except FileExistsError:\n",
        "  pass\n",
        "\n",
        "for data_source_mapping in DATA_SOURCE_MAPPING.split(','):\n",
        "    directory, download_url_encoded = data_source_mapping.split(':')\n",
        "    download_url = unquote(download_url_encoded)\n",
        "    filename = urlparse(download_url).path\n",
        "    destination_path = os.path.join(KAGGLE_INPUT_PATH, directory)\n",
        "    try:\n",
        "        with urlopen(download_url) as fileres, NamedTemporaryFile() as tfile:\n",
        "            total_length = fileres.headers['content-length']\n",
        "            print(f'Downloading {directory}, {total_length} bytes compressed')\n",
        "            dl = 0\n",
        "            data = fileres.read(CHUNK_SIZE)\n",
        "            while len(data) > 0:\n",
        "                dl += len(data)\n",
        "                tfile.write(data)\n",
        "                done = int(50 * dl / int(total_length))\n",
        "                sys.stdout.write(f\"\\r[{'=' * done}{' ' * (50-done)}] {dl} bytes downloaded\")\n",
        "                sys.stdout.flush()\n",
        "                data = fileres.read(CHUNK_SIZE)\n",
        "            if filename.endswith('.zip'):\n",
        "              with ZipFile(tfile) as zfile:\n",
        "                zfile.extractall(destination_path)\n",
        "            else:\n",
        "              with tarfile.open(tfile.name) as tarfile:\n",
        "                tarfile.extractall(destination_path)\n",
        "            print(f'\\nDownloaded and uncompressed: {directory}')\n",
        "    except HTTPError as e:\n",
        "        print(f'Failed to load (likely expired) {download_url} to path {destination_path}')\n",
        "        continue\n",
        "    except OSError as e:\n",
        "        print(f'Failed to load {download_url} to path {destination_path}')\n",
        "        continue\n",
        "\n",
        "print('Data source import complete.')\n"
      ],
      "metadata": {
        "colab": {
          "base_uri": "https://localhost:8080/"
        },
        "id": "DKc0jLJnXLEs",
        "outputId": "b4301784-63e3-4b04-e8ff-d4ea0bbe6599"
      },
      "cell_type": "code",
      "outputs": [
        {
          "output_type": "stream",
          "name": "stdout",
          "text": [
            "Downloading fer2013, 63252113 bytes compressed\n",
            "[==================================================] 63252113 bytes downloaded\n",
            "Downloaded and uncompressed: fer2013\n",
            "Downloading spotify-music-data-to-identify-the-moods, 57310 bytes compressed\n",
            "[==================================================] 57310 bytes downloaded\n",
            "Downloaded and uncompressed: spotify-music-data-to-identify-the-moods\n",
            "Data source import complete.\n"
          ]
        }
      ],
      "execution_count": 14
    },
    {
      "cell_type": "code",
      "source": [
        "import pandas as pd\n",
        "import numpy as np\n",
        "import matplotlib.pyplot as plt\n",
        "plt.style.use('default')\n",
        "\n",
        "import os\n",
        "import tensorflow as tf\n",
        "import keras\n",
        "import cv2\n",
        "\n",
        "from sklearn.model_selection import train_test_split\n",
        "\n",
        "from tensorflow.keras.preprocessing.image import ImageDataGenerator, load_img, img_to_array\n",
        "from tensorflow.keras.callbacks import EarlyStopping, ModelCheckpoint, ReduceLROnPlateau\n",
        "from tensorflow.keras.utils import plot_model\n",
        "from tensorflow.keras import layers , models, optimizers\n",
        "\n",
        "from tensorflow.keras.models import Sequential, Model\n",
        "from tensorflow.keras.layers import *\n",
        "from tensorflow.keras.applications import ResNet50V2"
      ],
      "metadata": {
        "_uuid": "8f2839f25d086af736a60e9eeb907d3b93b6e0e5",
        "_cell_guid": "b1076dfc-b9ad-4769-8c92-a6c4dae69d19",
        "id": "OsFR4ZaIcK3F",
        "execution": {
          "iopub.status.busy": "2024-04-04T18:24:13.434376Z",
          "iopub.execute_input": "2024-04-04T18:24:13.434885Z",
          "iopub.status.idle": "2024-04-04T18:24:24.257687Z",
          "shell.execute_reply.started": "2024-04-04T18:24:13.434789Z",
          "shell.execute_reply": "2024-04-04T18:24:24.25634Z"
        },
        "trusted": true
      },
      "execution_count": 15,
      "outputs": []
    },
    {
      "cell_type": "markdown",
      "source": [
        "# **Visualizing Classes**"
      ],
      "metadata": {
        "id": "ZJEY6DRjcK3J"
      }
    },
    {
      "cell_type": "code",
      "source": [
        "train_dir = '../input/fer2013/train/'\n",
        "test_dir = '../input/fer2013/test/'\n",
        "\n",
        "def Classes_Count( path, name):\n",
        "    Classes_Dict = {}\n",
        "\n",
        "    for Class in os.listdir(path):\n",
        "\n",
        "        Full_Path = path + Class\n",
        "        Classes_Dict[Class] = len(os.listdir(Full_Path))\n",
        "\n",
        "    df = pd.DataFrame(Classes_Dict, index=[name])\n",
        "\n",
        "    return df\n",
        "\n",
        "Train_Count = Classes_Count(train_dir, 'Train').transpose().sort_values(by=\"Train\", ascending=False)\n",
        "Test_Count = Classes_Count(test_dir, 'Test').transpose().sort_values(by=\"Test\", ascending=False)"
      ],
      "metadata": {
        "id": "7VepYznXcK3K",
        "execution": {
          "iopub.status.busy": "2024-04-04T18:24:24.265132Z",
          "iopub.execute_input": "2024-04-04T18:24:24.271818Z",
          "iopub.status.idle": "2024-04-04T18:24:26.824489Z",
          "shell.execute_reply.started": "2024-04-04T18:24:24.271758Z",
          "shell.execute_reply": "2024-04-04T18:24:26.823501Z"
        },
        "trusted": true
      },
      "execution_count": 16,
      "outputs": []
    },
    {
      "cell_type": "code",
      "source": [
        "pd.concat([Train_Count,Test_Count] , axis=1)"
      ],
      "metadata": {
        "id": "QWDotxg4cK3L",
        "outputId": "ae507e20-17b5-456c-a17a-4556a122a364",
        "execution": {
          "iopub.status.busy": "2024-04-04T18:24:26.829403Z",
          "iopub.execute_input": "2024-04-04T18:24:26.831759Z",
          "iopub.status.idle": "2024-04-04T18:24:26.85896Z",
          "shell.execute_reply.started": "2024-04-04T18:24:26.831703Z",
          "shell.execute_reply": "2024-04-04T18:24:26.857867Z"
        },
        "trusted": true,
        "colab": {
          "base_uri": "https://localhost:8080/",
          "height": 269
        }
      },
      "execution_count": 17,
      "outputs": [
        {
          "output_type": "execute_result",
          "data": {
            "text/plain": [
              "          Train  Test\n",
              "happy      7215  1774\n",
              "neutral    4965  1233\n",
              "sad        4830  1247\n",
              "fear       4097  1024\n",
              "angry      3995   958\n",
              "surprise   3171   831\n",
              "disgust     436   111"
            ],
            "text/html": [
              "\n",
              "  <div id=\"df-daa5e9ff-b9c3-4111-8458-474b7ef752d4\" class=\"colab-df-container\">\n",
              "    <div>\n",
              "<style scoped>\n",
              "    .dataframe tbody tr th:only-of-type {\n",
              "        vertical-align: middle;\n",
              "    }\n",
              "\n",
              "    .dataframe tbody tr th {\n",
              "        vertical-align: top;\n",
              "    }\n",
              "\n",
              "    .dataframe thead th {\n",
              "        text-align: right;\n",
              "    }\n",
              "</style>\n",
              "<table border=\"1\" class=\"dataframe\">\n",
              "  <thead>\n",
              "    <tr style=\"text-align: right;\">\n",
              "      <th></th>\n",
              "      <th>Train</th>\n",
              "      <th>Test</th>\n",
              "    </tr>\n",
              "  </thead>\n",
              "  <tbody>\n",
              "    <tr>\n",
              "      <th>happy</th>\n",
              "      <td>7215</td>\n",
              "      <td>1774</td>\n",
              "    </tr>\n",
              "    <tr>\n",
              "      <th>neutral</th>\n",
              "      <td>4965</td>\n",
              "      <td>1233</td>\n",
              "    </tr>\n",
              "    <tr>\n",
              "      <th>sad</th>\n",
              "      <td>4830</td>\n",
              "      <td>1247</td>\n",
              "    </tr>\n",
              "    <tr>\n",
              "      <th>fear</th>\n",
              "      <td>4097</td>\n",
              "      <td>1024</td>\n",
              "    </tr>\n",
              "    <tr>\n",
              "      <th>angry</th>\n",
              "      <td>3995</td>\n",
              "      <td>958</td>\n",
              "    </tr>\n",
              "    <tr>\n",
              "      <th>surprise</th>\n",
              "      <td>3171</td>\n",
              "      <td>831</td>\n",
              "    </tr>\n",
              "    <tr>\n",
              "      <th>disgust</th>\n",
              "      <td>436</td>\n",
              "      <td>111</td>\n",
              "    </tr>\n",
              "  </tbody>\n",
              "</table>\n",
              "</div>\n",
              "    <div class=\"colab-df-buttons\">\n",
              "\n",
              "  <div class=\"colab-df-container\">\n",
              "    <button class=\"colab-df-convert\" onclick=\"convertToInteractive('df-daa5e9ff-b9c3-4111-8458-474b7ef752d4')\"\n",
              "            title=\"Convert this dataframe to an interactive table.\"\n",
              "            style=\"display:none;\">\n",
              "\n",
              "  <svg xmlns=\"http://www.w3.org/2000/svg\" height=\"24px\" viewBox=\"0 -960 960 960\">\n",
              "    <path d=\"M120-120v-720h720v720H120Zm60-500h600v-160H180v160Zm220 220h160v-160H400v160Zm0 220h160v-160H400v160ZM180-400h160v-160H180v160Zm440 0h160v-160H620v160ZM180-180h160v-160H180v160Zm440 0h160v-160H620v160Z\"/>\n",
              "  </svg>\n",
              "    </button>\n",
              "\n",
              "  <style>\n",
              "    .colab-df-container {\n",
              "      display:flex;\n",
              "      gap: 12px;\n",
              "    }\n",
              "\n",
              "    .colab-df-convert {\n",
              "      background-color: #E8F0FE;\n",
              "      border: none;\n",
              "      border-radius: 50%;\n",
              "      cursor: pointer;\n",
              "      display: none;\n",
              "      fill: #1967D2;\n",
              "      height: 32px;\n",
              "      padding: 0 0 0 0;\n",
              "      width: 32px;\n",
              "    }\n",
              "\n",
              "    .colab-df-convert:hover {\n",
              "      background-color: #E2EBFA;\n",
              "      box-shadow: 0px 1px 2px rgba(60, 64, 67, 0.3), 0px 1px 3px 1px rgba(60, 64, 67, 0.15);\n",
              "      fill: #174EA6;\n",
              "    }\n",
              "\n",
              "    .colab-df-buttons div {\n",
              "      margin-bottom: 4px;\n",
              "    }\n",
              "\n",
              "    [theme=dark] .colab-df-convert {\n",
              "      background-color: #3B4455;\n",
              "      fill: #D2E3FC;\n",
              "    }\n",
              "\n",
              "    [theme=dark] .colab-df-convert:hover {\n",
              "      background-color: #434B5C;\n",
              "      box-shadow: 0px 1px 3px 1px rgba(0, 0, 0, 0.15);\n",
              "      filter: drop-shadow(0px 1px 2px rgba(0, 0, 0, 0.3));\n",
              "      fill: #FFFFFF;\n",
              "    }\n",
              "  </style>\n",
              "\n",
              "    <script>\n",
              "      const buttonEl =\n",
              "        document.querySelector('#df-daa5e9ff-b9c3-4111-8458-474b7ef752d4 button.colab-df-convert');\n",
              "      buttonEl.style.display =\n",
              "        google.colab.kernel.accessAllowed ? 'block' : 'none';\n",
              "\n",
              "      async function convertToInteractive(key) {\n",
              "        const element = document.querySelector('#df-daa5e9ff-b9c3-4111-8458-474b7ef752d4');\n",
              "        const dataTable =\n",
              "          await google.colab.kernel.invokeFunction('convertToInteractive',\n",
              "                                                    [key], {});\n",
              "        if (!dataTable) return;\n",
              "\n",
              "        const docLinkHtml = 'Like what you see? Visit the ' +\n",
              "          '<a target=\"_blank\" href=https://colab.research.google.com/notebooks/data_table.ipynb>data table notebook</a>'\n",
              "          + ' to learn more about interactive tables.';\n",
              "        element.innerHTML = '';\n",
              "        dataTable['output_type'] = 'display_data';\n",
              "        await google.colab.output.renderOutput(dataTable, element);\n",
              "        const docLink = document.createElement('div');\n",
              "        docLink.innerHTML = docLinkHtml;\n",
              "        element.appendChild(docLink);\n",
              "      }\n",
              "    </script>\n",
              "  </div>\n",
              "\n",
              "\n",
              "<div id=\"df-4f511c74-d89e-4928-ab7c-7b84afd0e90b\">\n",
              "  <button class=\"colab-df-quickchart\" onclick=\"quickchart('df-4f511c74-d89e-4928-ab7c-7b84afd0e90b')\"\n",
              "            title=\"Suggest charts\"\n",
              "            style=\"display:none;\">\n",
              "\n",
              "<svg xmlns=\"http://www.w3.org/2000/svg\" height=\"24px\"viewBox=\"0 0 24 24\"\n",
              "     width=\"24px\">\n",
              "    <g>\n",
              "        <path d=\"M19 3H5c-1.1 0-2 .9-2 2v14c0 1.1.9 2 2 2h14c1.1 0 2-.9 2-2V5c0-1.1-.9-2-2-2zM9 17H7v-7h2v7zm4 0h-2V7h2v10zm4 0h-2v-4h2v4z\"/>\n",
              "    </g>\n",
              "</svg>\n",
              "  </button>\n",
              "\n",
              "<style>\n",
              "  .colab-df-quickchart {\n",
              "      --bg-color: #E8F0FE;\n",
              "      --fill-color: #1967D2;\n",
              "      --hover-bg-color: #E2EBFA;\n",
              "      --hover-fill-color: #174EA6;\n",
              "      --disabled-fill-color: #AAA;\n",
              "      --disabled-bg-color: #DDD;\n",
              "  }\n",
              "\n",
              "  [theme=dark] .colab-df-quickchart {\n",
              "      --bg-color: #3B4455;\n",
              "      --fill-color: #D2E3FC;\n",
              "      --hover-bg-color: #434B5C;\n",
              "      --hover-fill-color: #FFFFFF;\n",
              "      --disabled-bg-color: #3B4455;\n",
              "      --disabled-fill-color: #666;\n",
              "  }\n",
              "\n",
              "  .colab-df-quickchart {\n",
              "    background-color: var(--bg-color);\n",
              "    border: none;\n",
              "    border-radius: 50%;\n",
              "    cursor: pointer;\n",
              "    display: none;\n",
              "    fill: var(--fill-color);\n",
              "    height: 32px;\n",
              "    padding: 0;\n",
              "    width: 32px;\n",
              "  }\n",
              "\n",
              "  .colab-df-quickchart:hover {\n",
              "    background-color: var(--hover-bg-color);\n",
              "    box-shadow: 0 1px 2px rgba(60, 64, 67, 0.3), 0 1px 3px 1px rgba(60, 64, 67, 0.15);\n",
              "    fill: var(--button-hover-fill-color);\n",
              "  }\n",
              "\n",
              "  .colab-df-quickchart-complete:disabled,\n",
              "  .colab-df-quickchart-complete:disabled:hover {\n",
              "    background-color: var(--disabled-bg-color);\n",
              "    fill: var(--disabled-fill-color);\n",
              "    box-shadow: none;\n",
              "  }\n",
              "\n",
              "  .colab-df-spinner {\n",
              "    border: 2px solid var(--fill-color);\n",
              "    border-color: transparent;\n",
              "    border-bottom-color: var(--fill-color);\n",
              "    animation:\n",
              "      spin 1s steps(1) infinite;\n",
              "  }\n",
              "\n",
              "  @keyframes spin {\n",
              "    0% {\n",
              "      border-color: transparent;\n",
              "      border-bottom-color: var(--fill-color);\n",
              "      border-left-color: var(--fill-color);\n",
              "    }\n",
              "    20% {\n",
              "      border-color: transparent;\n",
              "      border-left-color: var(--fill-color);\n",
              "      border-top-color: var(--fill-color);\n",
              "    }\n",
              "    30% {\n",
              "      border-color: transparent;\n",
              "      border-left-color: var(--fill-color);\n",
              "      border-top-color: var(--fill-color);\n",
              "      border-right-color: var(--fill-color);\n",
              "    }\n",
              "    40% {\n",
              "      border-color: transparent;\n",
              "      border-right-color: var(--fill-color);\n",
              "      border-top-color: var(--fill-color);\n",
              "    }\n",
              "    60% {\n",
              "      border-color: transparent;\n",
              "      border-right-color: var(--fill-color);\n",
              "    }\n",
              "    80% {\n",
              "      border-color: transparent;\n",
              "      border-right-color: var(--fill-color);\n",
              "      border-bottom-color: var(--fill-color);\n",
              "    }\n",
              "    90% {\n",
              "      border-color: transparent;\n",
              "      border-bottom-color: var(--fill-color);\n",
              "    }\n",
              "  }\n",
              "</style>\n",
              "\n",
              "  <script>\n",
              "    async function quickchart(key) {\n",
              "      const quickchartButtonEl =\n",
              "        document.querySelector('#' + key + ' button');\n",
              "      quickchartButtonEl.disabled = true;  // To prevent multiple clicks.\n",
              "      quickchartButtonEl.classList.add('colab-df-spinner');\n",
              "      try {\n",
              "        const charts = await google.colab.kernel.invokeFunction(\n",
              "            'suggestCharts', [key], {});\n",
              "      } catch (error) {\n",
              "        console.error('Error during call to suggestCharts:', error);\n",
              "      }\n",
              "      quickchartButtonEl.classList.remove('colab-df-spinner');\n",
              "      quickchartButtonEl.classList.add('colab-df-quickchart-complete');\n",
              "    }\n",
              "    (() => {\n",
              "      let quickchartButtonEl =\n",
              "        document.querySelector('#df-4f511c74-d89e-4928-ab7c-7b84afd0e90b button');\n",
              "      quickchartButtonEl.style.display =\n",
              "        google.colab.kernel.accessAllowed ? 'block' : 'none';\n",
              "    })();\n",
              "  </script>\n",
              "</div>\n",
              "\n",
              "    </div>\n",
              "  </div>\n"
            ],
            "application/vnd.google.colaboratory.intrinsic+json": {
              "type": "dataframe",
              "summary": "{\n  \"name\": \"pd\",\n  \"rows\": 7,\n  \"fields\": [\n    {\n      \"column\": \"Train\",\n      \"properties\": {\n        \"dtype\": \"number\",\n        \"std\": 2052,\n        \"min\": 436,\n        \"max\": 7215,\n        \"num_unique_values\": 7,\n        \"samples\": [\n          7215,\n          4965,\n          3171\n        ],\n        \"semantic_type\": \"\",\n        \"description\": \"\"\n      }\n    },\n    {\n      \"column\": \"Test\",\n      \"properties\": {\n        \"dtype\": \"number\",\n        \"std\": 505,\n        \"min\": 111,\n        \"max\": 1774,\n        \"num_unique_values\": 7,\n        \"samples\": [\n          1774,\n          1233,\n          831\n        ],\n        \"semantic_type\": \"\",\n        \"description\": \"\"\n      }\n    }\n  ]\n}"
            }
          },
          "metadata": {},
          "execution_count": 17
        }
      ]
    },
    {
      "cell_type": "code",
      "source": [
        "Train_Count.plot(kind='barh')"
      ],
      "metadata": {
        "id": "85np-T5-cK3M",
        "outputId": "efa78ed1-2e47-4c0e-9fce-340466e0d115",
        "execution": {
          "iopub.status.busy": "2024-04-04T18:24:26.865623Z",
          "iopub.execute_input": "2024-04-04T18:24:26.868322Z",
          "iopub.status.idle": "2024-04-04T18:24:27.143069Z",
          "shell.execute_reply.started": "2024-04-04T18:24:26.868277Z",
          "shell.execute_reply": "2024-04-04T18:24:27.142217Z"
        },
        "trusted": true,
        "colab": {
          "base_uri": "https://localhost:8080/",
          "height": 448
        }
      },
      "execution_count": 18,
      "outputs": [
        {
          "output_type": "execute_result",
          "data": {
            "text/plain": [
              "<Axes: >"
            ]
          },
          "metadata": {},
          "execution_count": 18
        },
        {
          "output_type": "display_data",
          "data": {
            "text/plain": [
              "<Figure size 640x480 with 1 Axes>"
            ],
            "image/png": "[encoded data removed]"
          },
          "metadata": {}
        }
      ]
    },
    {
      "cell_type": "code",
      "source": [
        "Test_Count.plot(kind='barh')"
      ],
      "metadata": {
        "id": "tAydj7OOcK3N",
        "outputId": "f92af2c3-62d0-4de3-eda2-af0b62ca8d7f",
        "execution": {
          "iopub.status.busy": "2024-04-04T18:24:27.147357Z",
          "iopub.execute_input": "2024-04-04T18:24:27.149576Z",
          "iopub.status.idle": "2024-04-04T18:24:27.349268Z",
          "shell.execute_reply.started": "2024-04-04T18:24:27.149534Z",
          "shell.execute_reply": "2024-04-04T18:24:27.348406Z"
        },
        "trusted": true,
        "colab": {
          "base_uri": "https://localhost:8080/",
          "height": 448
        }
      },
      "execution_count": 19,
      "outputs": [
        {
          "output_type": "execute_result",
          "data": {
            "text/plain": [
              "<Axes: >"
            ]
          },
          "metadata": {},
          "execution_count": 19
        },
        {
          "output_type": "display_data",
          "data": {
            "text/plain": [
              "<Figure size 640x480 with 1 Axes>"
            ],
            "image/png": "[encoded data removed]"
          },
          "metadata": {}
        }
      ]
    },
    {
      "cell_type": "code",
      "source": [
        "plt.style.use('default')\n",
        "plt.figure(figsize = (25, 8))\n",
        "image_count = 1\n",
        "BASE_URL = '../input/fer2013/train/'\n",
        "\n",
        "for directory in os.listdir(BASE_URL):\n",
        "    if directory[0] != '.':\n",
        "        for i, file in enumerate(os.listdir(BASE_URL + directory)):\n",
        "            if i == 1:\n",
        "                break\n",
        "            else:\n",
        "                fig = plt.subplot(1, 7, image_count)\n",
        "                image_count += 1\n",
        "                image = cv2.imread(BASE_URL + directory + '/' + file)\n",
        "                plt.imshow(image)\n",
        "                plt.title(directory, fontsize = 20)"
      ],
      "metadata": {
        "id": "jrajJd6QcK3O",
        "outputId": "26dca2c3-72b6-498d-be73-46f466e38ec9",
        "execution": {
          "iopub.status.busy": "2024-04-04T18:24:27.35362Z",
          "iopub.execute_input": "2024-04-04T18:24:27.355782Z",
          "iopub.status.idle": "2024-04-04T18:24:28.330364Z",
          "shell.execute_reply.started": "2024-04-04T18:24:27.355741Z",
          "shell.execute_reply": "2024-04-04T18:24:28.329401Z"
        },
        "trusted": true,
        "colab": {
          "base_uri": "https://localhost:8080/",
          "height": 238
        }
      },
      "execution_count": 20,
      "outputs": [
        {
          "output_type": "display_data",
          "data": {
            "text/plain": [
              "<Figure size 2500x800 with 7 Axes>"
            ],
            "image/png": "[encoded data removed]"
          },
          "metadata": {}
        }
      ]
    },
    {
      "cell_type": "markdown",
      "source": [
        "# **Data Preprocessing**"
      ],
      "metadata": {
        "id": "Ml6az1aFcK3Q"
      }
    },
    {
      "cell_type": "code",
      "source": [
        "img_shape = 48\n",
        "batch_size = 64\n",
        "train_data_path = '../input/fer2013/train/'\n",
        "test_data_path = '../input/fer2013/test/'"
      ],
      "metadata": {
        "id": "ZKXO7pCFcK3Q",
        "execution": {
          "iopub.status.busy": "2024-04-04T18:24:28.331293Z",
          "iopub.execute_input": "2024-04-04T18:24:28.331626Z",
          "iopub.status.idle": "2024-04-04T18:24:28.343631Z",
          "shell.execute_reply.started": "2024-04-04T18:24:28.331597Z",
          "shell.execute_reply": "2024-04-04T18:24:28.342399Z"
        },
        "trusted": true
      },
      "execution_count": 21,
      "outputs": []
    },
    {
      "cell_type": "code",
      "source": [
        "train_preprocessor = ImageDataGenerator(\n",
        "        rescale = 1 / 255.,\n",
        "        # Data Augmentation\n",
        "        rotation_range=10,\n",
        "        zoom_range=0.2,\n",
        "        width_shift_range=0.1,\n",
        "        height_shift_range=0.1,\n",
        "        horizontal_flip=True,\n",
        "        fill_mode='nearest',\n",
        "    )\n",
        "\n",
        "\n",
        "test_preprocessor = ImageDataGenerator(\n",
        "    rescale = 1 / 255.,\n",
        ")\n",
        "\n",
        "train_data = train_preprocessor.flow_from_directory(\n",
        "    train_data_path,\n",
        "    class_mode=\"categorical\",\n",
        "    target_size=(img_shape,img_shape),\n",
        "    color_mode='rgb',\n",
        "    shuffle=True,\n",
        "    batch_size=batch_size,\n",
        "    subset='training',\n",
        ")\n",
        "\n",
        "\n",
        "test_data = test_preprocessor.flow_from_directory(\n",
        "    test_data_path,\n",
        "    class_mode=\"categorical\",\n",
        "    target_size=(img_shape,img_shape),\n",
        "    color_mode=\"rgb\",\n",
        "    shuffle=False,\n",
        "    batch_size=batch_size,\n",
        ")"
      ],
      "metadata": {
        "id": "TOlnNiY9cK3R",
        "outputId": "9453d0a6-1f06-4334-ab43-063e65026ad6",
        "execution": {
          "iopub.status.busy": "2024-04-04T18:24:28.345566Z",
          "iopub.execute_input": "2024-04-04T18:24:28.346358Z",
          "iopub.status.idle": "2024-04-04T18:24:50.908369Z",
          "shell.execute_reply.started": "2024-04-04T18:24:28.346318Z",
          "shell.execute_reply": "2024-04-04T18:24:50.907419Z"
        },
        "trusted": true,
        "colab": {
          "base_uri": "https://localhost:8080/"
        }
      },
      "execution_count": 22,
      "outputs": [
        {
          "output_type": "stream",
          "name": "stdout",
          "text": [
            "Found 28709 images belonging to 7 classes.\n",
            "Found 7178 images belonging to 7 classes.\n"
          ]
        }
      ]
    },
    {
      "cell_type": "markdown",
      "source": [
        "# **Building CNN Model**"
      ],
      "metadata": {
        "id": "3_fBEuJvg4iZ"
      }
    },
    {
      "cell_type": "code",
      "source": [
        "def Create_CNN_Model():\n",
        "\n",
        "    model = Sequential()\n",
        "\n",
        "    #CNN1\n",
        "    model.add(Conv2D(32, (3,3), activation='relu', input_shape=(img_shape, img_shape, 3)))\n",
        "    model.add(BatchNormalization())\n",
        "    model.add(Conv2D(64,(3,3), activation='relu', padding='same'))\n",
        "    model.add(BatchNormalization())\n",
        "    model.add(MaxPooling2D(pool_size=(2,2), padding='same'))\n",
        "    model.add(Dropout(0.25))\n",
        "\n",
        "    #CNN2\n",
        "    model.add(Conv2D(64, (3,3), activation='relu', ))\n",
        "    model.add(BatchNormalization())\n",
        "    model.add(Conv2D(128,(3,3), activation='relu', padding='same'))\n",
        "    model.add(BatchNormalization())\n",
        "    model.add(MaxPooling2D(pool_size=(2,2), padding='same'))\n",
        "    model.add(Dropout(0.25))\n",
        "\n",
        "    #CNN3\n",
        "    model.add(Conv2D(128, (3,3), activation='relu'))\n",
        "    model.add(BatchNormalization())\n",
        "    model.add(Conv2D(256,(3,3), activation='relu', padding='same'))\n",
        "    model.add(BatchNormalization())\n",
        "    model.add(MaxPooling2D(pool_size=(2,2), padding='same'))\n",
        "    model.add(Dropout(0.25))\n",
        "\n",
        "\n",
        "    #Output\n",
        "    model.add(Flatten())\n",
        "\n",
        "    model.add(Dense(1024, activation='relu'))\n",
        "    model.add(BatchNormalization())\n",
        "    model.add(Dropout(0.25))\n",
        "\n",
        "    model.add(Dense(512, activation='relu'))\n",
        "    model.add(BatchNormalization())\n",
        "    model.add(Dropout(0.25))\n",
        "\n",
        "    model.add(Dense(256, activation='relu'))\n",
        "    model.add(BatchNormalization())\n",
        "    model.add(Dropout(0.25))\n",
        "\n",
        "    model.add(Dense(128, activation='relu'))\n",
        "    model.add(BatchNormalization())\n",
        "    model.add(Dropout(0.25))\n",
        "\n",
        "    model.add(Dense(64, activation='relu'))\n",
        "    model.add(BatchNormalization())\n",
        "    model.add(Dropout(0.25))\n",
        "\n",
        "    model.add(Dense(32, activation='relu'))\n",
        "    model.add(BatchNormalization())\n",
        "    model.add(Dropout(0.25))\n",
        "\n",
        "    model.add(Dense(7,activation='softmax'))\n",
        "\n",
        "\n",
        "    return model"
      ],
      "metadata": {
        "id": "oeA1n1Wfg4iZ",
        "execution": {
          "iopub.status.busy": "2024-04-04T18:24:50.912613Z",
          "iopub.execute_input": "2024-04-04T18:24:50.914788Z",
          "iopub.status.idle": "2024-04-04T18:24:50.93253Z",
          "shell.execute_reply.started": "2024-04-04T18:24:50.914746Z",
          "shell.execute_reply": "2024-04-04T18:24:50.931457Z"
        },
        "trusted": true
      },
      "execution_count": 23,
      "outputs": []
    },
    {
      "cell_type": "code",
      "source": [
        "CNN_Model = Create_CNN_Model()\n",
        "\n",
        "CNN_Model.summary()\n",
        "\n",
        "CNN_Model.compile(optimizer=\"adam\", loss='categorical_crossentropy', metrics=['accuracy'])"
      ],
      "metadata": {
        "id": "E1TV5dQGg4ia",
        "outputId": "d0b08b8c-0f1a-41b3-c05b-65da149e872d",
        "execution": {
          "iopub.status.busy": "2024-04-04T18:24:50.940245Z",
          "iopub.execute_input": "2024-04-04T18:24:50.942885Z",
          "iopub.status.idle": "2024-04-04T18:24:51.64206Z",
          "shell.execute_reply.started": "2024-04-04T18:24:50.942834Z",
          "shell.execute_reply": "2024-04-04T18:24:51.641206Z"
        },
        "trusted": true,
        "colab": {
          "base_uri": "https://localhost:8080/"
        }
      },
      "execution_count": 24,
      "outputs": [
        {
          "output_type": "stream",
          "name": "stdout",
          "text": [
            "Model: \"sequential_1\"\n",
            "_________________________________________________________________\n",
            " Layer (type)                Output Shape              Param #   \n",
            "=================================================================\n",
            " conv2d_6 (Conv2D)           (None, 46, 46, 32)        896       \n",
            "                                                                 \n",
            " batch_normalization_12 (Ba  (None, 46, 46, 32)        128       \n",
            " tchNormalization)                                               \n",
            "                                                                 \n",
            " conv2d_7 (Conv2D)           (None, 46, 46, 64)        18496     \n",
            "                                                                 \n",
            " batch_normalization_13 (Ba  (None, 46, 46, 64)        256       \n",
            " tchNormalization)                                               \n",
            "                                                                 \n",
            " max_pooling2d_3 (MaxPoolin  (None, 23, 23, 64)        0         \n",
            " g2D)                                                            \n",
            "                                                                 \n",
            " dropout_9 (Dropout)         (None, 23, 23, 64)        0         \n",
            "                                                                 \n",
            " conv2d_8 (Conv2D)           (None, 21, 21, 64)        36928     \n",
            "                                                                 \n",
            " batch_normalization_14 (Ba  (None, 21, 21, 64)        256       \n",
            " tchNormalization)                                               \n",
            "                                                                 \n",
            " conv2d_9 (Conv2D)           (None, 21, 21, 128)       73856     \n",
            "                                                                 \n",
            " batch_normalization_15 (Ba  (None, 21, 21, 128)       512       \n",
            " tchNormalization)                                               \n",
            "                                                                 \n",
            " max_pooling2d_4 (MaxPoolin  (None, 11, 11, 128)       0         \n",
            " g2D)                                                            \n",
            "                                                                 \n",
            " dropout_10 (Dropout)        (None, 11, 11, 128)       0         \n",
            "                                                                 \n",
            " conv2d_10 (Conv2D)          (None, 9, 9, 128)         147584    \n",
            "                                                                 \n",
            " batch_normalization_16 (Ba  (None, 9, 9, 128)         512       \n",
            " tchNormalization)                                               \n",
            "                                                                 \n",
            " conv2d_11 (Conv2D)          (None, 9, 9, 256)         295168    \n",
            "                                                                 \n",
            " batch_normalization_17 (Ba  (None, 9, 9, 256)         1024      \n",
            " tchNormalization)                                               \n",
            "                                                                 \n",
            " max_pooling2d_5 (MaxPoolin  (None, 5, 5, 256)         0         \n",
            " g2D)                                                            \n",
            "                                                                 \n",
            " dropout_11 (Dropout)        (None, 5, 5, 256)         0         \n",
            "                                                                 \n",
            " flatten_1 (Flatten)         (None, 6400)              0         \n",
            "                                                                 \n",
            " dense_7 (Dense)             (None, 1024)              6554624   \n",
            "                                                                 \n",
            " batch_normalization_18 (Ba  (None, 1024)              4096      \n",
            " tchNormalization)                                               \n",
            "                                                                 \n",
            " dropout_12 (Dropout)        (None, 1024)              0         \n",
            "                                                                 \n",
            " dense_8 (Dense)             (None, 512)               524800    \n",
            "                                                                 \n",
            " batch_normalization_19 (Ba  (None, 512)               2048      \n",
            " tchNormalization)                                               \n",
            "                                                                 \n",
            " dropout_13 (Dropout)        (None, 512)               0         \n",
            "                                                                 \n",
            " dense_9 (Dense)             (None, 256)               131328    \n",
            "                                                                 \n",
            " batch_normalization_20 (Ba  (None, 256)               1024      \n",
            " tchNormalization)                                               \n",
            "                                                                 \n",
            " dropout_14 (Dropout)        (None, 256)               0         \n",
            "                                                                 \n",
            " dense_10 (Dense)            (None, 128)               32896     \n",
            "                                                                 \n",
            " batch_normalization_21 (Ba  (None, 128)               512       \n",
            " tchNormalization)                                               \n",
            "                                                                 \n",
            " dropout_15 (Dropout)        (None, 128)               0         \n",
            "                                                                 \n",
            " dense_11 (Dense)            (None, 64)                8256      \n",
            "                                                                 \n",
            " batch_normalization_22 (Ba  (None, 64)                256       \n",
            " tchNormalization)                                               \n",
            "                                                                 \n",
            " dropout_16 (Dropout)        (None, 64)                0         \n",
            "                                                                 \n",
            " dense_12 (Dense)            (None, 32)                2080      \n",
            "                                                                 \n",
            " batch_normalization_23 (Ba  (None, 32)                128       \n",
            " tchNormalization)                                               \n",
            "                                                                 \n",
            " dropout_17 (Dropout)        (None, 32)                0         \n",
            "                                                                 \n",
            " dense_13 (Dense)            (None, 7)                 231       \n",
            "                                                                 \n",
            "=================================================================\n",
            "Total params: 7837895 (29.90 MB)\n",
            "Trainable params: 7832519 (29.88 MB)\n",
            "Non-trainable params: 5376 (21.00 KB)\n",
            "_________________________________________________________________\n"
          ]
        }
      ]
    },
    {
      "cell_type": "markdown",
      "source": [
        "**Specifying Callbacks**"
      ],
      "metadata": {
        "id": "JfPOc4Reg4ia"
      }
    },
    {
      "cell_type": "code",
      "source": [
        "# Create Callback Checkpoint\n",
        "checkpoint_path = \"CNN_Model_Checkpoint\"\n",
        "\n",
        "Checkpoint = ModelCheckpoint(checkpoint_path, monitor=\"val_accuracy\", save_best_only=True)\n",
        "\n",
        "# Create Early Stopping Callback to monitor the accuracy\n",
        "Early_Stopping = EarlyStopping(monitor = 'val_accuracy', patience = 15, restore_best_weights = True, verbose=1)\n",
        "\n",
        "# Create ReduceLROnPlateau Callback to reduce overfitting by decreasing learning rate\n",
        "Reducing_LR = tf.keras.callbacks.ReduceLROnPlateau( monitor='val_loss',\n",
        "                                                  factor=0.2,\n",
        "                                                  patience=2,\n",
        "#                                                   min_lr=0.000005,\n",
        "                                                  verbose=1)\n",
        "\n",
        "callbacks = [Early_Stopping, Reducing_LR]\n",
        "\n",
        "steps_per_epoch = train_data.n // train_data.batch_size\n",
        "validation_steps = test_data.n // test_data.batch_size"
      ],
      "metadata": {
        "id": "GmRkrBGeg4ib",
        "execution": {
          "iopub.status.busy": "2024-04-04T18:24:51.646335Z",
          "iopub.execute_input": "2024-04-04T18:24:51.648551Z",
          "iopub.status.idle": "2024-04-04T18:24:51.656839Z",
          "shell.execute_reply.started": "2024-04-04T18:24:51.648509Z",
          "shell.execute_reply": "2024-04-04T18:24:51.655847Z"
        },
        "trusted": true
      },
      "execution_count": 25,
      "outputs": []
    },
    {
      "cell_type": "markdown",
      "source": [
        "# **Evaluating CNN Model**"
      ],
      "metadata": {
        "id": "t8mdy1A9g7iR"
      }
    },
    {
      "cell_type": "code",
      "source": [
        "CNN_Score = CNN_Model.evaluate(test_data)\n",
        "\n",
        "print(\"    Test Loss: {:.5f}\".format(CNN_Score[0]))\n",
        "print(\"Test Accuracy: {:.2f}%\".format(CNN_Score[1] * 100))"
      ],
      "metadata": {
        "id": "Eob2J3slg4ie",
        "trusted": true
      },
      "execution_count": null,
      "outputs": []
    },
    {
      "cell_type": "code",
      "source": [
        "def plot_curves(history):\n",
        "\n",
        "    loss = history.history[\"loss\"]\n",
        "    val_loss = history.history[\"val_loss\"]\n",
        "\n",
        "    accuracy = history.history[\"accuracy\"]\n",
        "    val_accuracy = history.history[\"val_accuracy\"]\n",
        "\n",
        "    epochs = range(len(history.history[\"loss\"]))\n",
        "\n",
        "    plt.figure(figsize=(15,5))\n",
        "\n",
        "    #plot loss\n",
        "    plt.subplot(1, 2, 1)\n",
        "    plt.plot(epochs, loss, label = \"training_loss\")\n",
        "    plt.plot(epochs, val_loss, label = \"val_loss\")\n",
        "    plt.title(\"Loss\")\n",
        "    plt.xlabel(\"epochs\")\n",
        "    plt.legend()\n",
        "\n",
        "    #plot accuracy\n",
        "    plt.subplot(1, 2, 2)\n",
        "    plt.plot(epochs, accuracy, label = \"training_accuracy\")\n",
        "    plt.plot(epochs, val_accuracy, label = \"val_accuracy\")\n",
        "    plt.title(\"Accuracy\")\n",
        "    plt.xlabel(\"epochs\")\n",
        "    plt.legend()\n",
        "\n",
        "  #plt.tight_layout()"
      ],
      "metadata": {
        "id": "k65iFZgxg4if",
        "trusted": true
      },
      "execution_count": null,
      "outputs": []
    },
    {
      "cell_type": "code",
      "source": [
        "plot_curves(CNN_history)"
      ],
      "metadata": {
        "id": "eE0FwYAog4ig",
        "trusted": true
      },
      "execution_count": null,
      "outputs": []
    },
    {
      "cell_type": "code",
      "source": [
        "CNN_Predictions = CNN_Model.predict(test_data)\n",
        "\n",
        "# Choosing highest probalbilty class in every prediction\n",
        "CNN_Predictions = np.argmax(CNN_Predictions, axis=1)"
      ],
      "metadata": {
        "id": "FV4wVKD0g4ig",
        "trusted": true
      },
      "execution_count": null,
      "outputs": []
    },
    {
      "cell_type": "code",
      "source": [
        "test_data.class_indices"
      ],
      "metadata": {
        "id": "JqVSW2g9g4ih",
        "trusted": true
      },
      "execution_count": null,
      "outputs": []
    },
    {
      "cell_type": "code",
      "source": [
        "import seaborn as sns\n",
        "from sklearn.metrics import confusion_matrix\n",
        "\n",
        "fig, ax= plt.subplots(figsize=(15,10))\n",
        "\n",
        "cm=confusion_matrix(test_data.labels, CNN_Predictions)\n",
        "\n",
        "sns.heatmap(cm, annot=True, fmt='g', ax=ax)\n",
        "\n",
        "ax.set_xlabel('Predicted labels',fontsize=15, fontweight='bold')\n",
        "ax.set_ylabel('True labels', fontsize=15, fontweight='bold')\n",
        "ax.set_title('CNN Confusion Matrix', fontsize=20, fontweight='bold')"
      ],
      "metadata": {
        "id": "POOyREFLg4ih",
        "trusted": true
      },
      "execution_count": null,
      "outputs": []
    },
    {
      "cell_type": "markdown",
      "source": [
        "# **ResNet50V2 Model**"
      ],
      "metadata": {
        "id": "dx6A8KQ9cK3X"
      }
    },
    {
      "cell_type": "code",
      "source": [
        "# specifing new image shape for resnet\n",
        "img_shape = 224\n",
        "batch_size = 64\n",
        "train_data_path = '../input/fer2013/train/'\n",
        "test_data_path = '../input/fer2013/test/'"
      ],
      "metadata": {
        "id": "aZsEnoB_cK3X",
        "trusted": true
      },
      "execution_count": null,
      "outputs": []
    },
    {
      "cell_type": "code",
      "source": [
        "train_preprocessor = ImageDataGenerator(\n",
        "        rescale = 1 / 255.,\n",
        "        rotation_range=10,\n",
        "        zoom_range=0.2,\n",
        "        width_shift_range=0.1,\n",
        "        height_shift_range=0.1,\n",
        "        horizontal_flip=True,\n",
        "        fill_mode='nearest',\n",
        "    )\n",
        "\n",
        "\n",
        "test_preprocessor = ImageDataGenerator(\n",
        "    rescale = 1 / 255.,\n",
        ")\n",
        "\n",
        "train_data = train_preprocessor.flow_from_directory(\n",
        "    train_data_path,\n",
        "    class_mode=\"categorical\",\n",
        "    target_size=(img_shape,img_shape),\n",
        "    color_mode='rgb',\n",
        "    shuffle=True,\n",
        "    batch_size=batch_size,\n",
        "    subset='training',\n",
        ")\n",
        "\n",
        "test_data = test_preprocessor.flow_from_directory(\n",
        "    test_data_path,\n",
        "    class_mode=\"categorical\",\n",
        "    target_size=(img_shape,img_shape),\n",
        "    color_mode=\"rgb\",\n",
        "    shuffle=False,\n",
        "    batch_size=batch_size,\n",
        ")"
      ],
      "metadata": {
        "id": "IrQ1RiaXcK3X",
        "trusted": true
      },
      "execution_count": null,
      "outputs": []
    },
    {
      "cell_type": "markdown",
      "source": [
        "# **Fine-Tuning ResNet50V2**"
      ],
      "metadata": {
        "id": "js0qnA8Sg7iW"
      }
    },
    {
      "cell_type": "code",
      "source": [
        "# 224,224,3\n",
        "ResNet50V2 = tf.keras.applications.ResNet50V2(input_shape=(224, 224, 3),\n",
        "                                               include_top= False,\n",
        "                                               weights='imagenet'\n",
        "                                               )\n",
        "\n",
        "#ResNet50V2.summary()"
      ],
      "metadata": {
        "id": "BtNktIOScK3Y",
        "trusted": true
      },
      "execution_count": null,
      "outputs": []
    },
    {
      "cell_type": "code",
      "source": [
        "# Freezing all layers except last 50\n",
        "\n",
        "ResNet50V2.trainable = True\n",
        "\n",
        "for layer in ResNet50V2.layers[:-50]:\n",
        "    layer.trainable = False"
      ],
      "metadata": {
        "id": "nYQ-7cLFcK3Y",
        "trusted": true
      },
      "execution_count": null,
      "outputs": []
    },
    {
      "cell_type": "code",
      "source": [
        "def Create_ResNet50V2_Model():\n",
        "\n",
        "    model = Sequential([\n",
        "                      ResNet50V2,\n",
        "                      Dropout(.25),\n",
        "                      BatchNormalization(),\n",
        "                      Flatten(),\n",
        "                      Dense(64, activation='relu'),\n",
        "                      BatchNormalization(),\n",
        "                      Dropout(.5),\n",
        "                      Dense(7,activation='softmax')\n",
        "                    ])\n",
        "    return model"
      ],
      "metadata": {
        "id": "mOmEg9lhcK3Y",
        "trusted": true
      },
      "execution_count": null,
      "outputs": []
    },
    {
      "cell_type": "code",
      "source": [
        "ResNet50V2_Model = Create_ResNet50V2_Model()\n",
        "\n",
        "ResNet50V2_Model.summary()\n",
        "\n",
        "ResNet50V2_Model.compile(optimizer='adam', loss='categorical_crossentropy', metrics=['accuracy'])"
      ],
      "metadata": {
        "id": "KPQYAXtGcK3Y",
        "trusted": true
      },
      "execution_count": null,
      "outputs": []
    },
    {
      "cell_type": "markdown",
      "source": [
        "**Specifying Callbacks**"
      ],
      "metadata": {
        "id": "5lQctNn2g7iZ"
      }
    },
    {
      "cell_type": "code",
      "source": [
        "# Create Callback Checkpoint\n",
        "checkpoint_path = \"ResNet50V2_Model_Checkpoint\"\n",
        "\n",
        "Checkpoint = ModelCheckpoint(checkpoint_path, monitor=\"val_accuracy\", save_best_only=True)\n",
        "\n",
        "# Create Early Stopping Callback to monitor the accuracy\n",
        "Early_Stopping = EarlyStopping(monitor = 'val_accuracy', patience = 7, restore_best_weights = True, verbose=1)\n",
        "\n",
        "# Create ReduceLROnPlateau Callback to reduce overfitting by decreasing learning\n",
        "Reducing_LR = tf.keras.callbacks.ReduceLROnPlateau(monitor='val_loss',\n",
        "                                                  factor=0.2,\n",
        "                                                  patience=2,\n",
        "#                                                   min_lr=0.00005,\n",
        "                                                  verbose=1)\n",
        "\n",
        "callbacks = [Early_Stopping, Reducing_LR]\n",
        "\n",
        "steps_per_epoch = train_data.n // train_data.batch_size\n",
        "validation_steps = test_data.n // test_data.batch_size"
      ],
      "metadata": {
        "id": "YnlBjvvNcK3Z",
        "trusted": true
      },
      "execution_count": null,
      "outputs": []
    },
    {
      "cell_type": "code",
      "source": [
        "ResNet50V2_history = ResNet50V2_Model.fit(train_data ,validation_data = test_data , epochs=30, batch_size=batch_size,\n",
        "                                         callbacks = callbacks, steps_per_epoch=steps_per_epoch, validation_steps=validation_steps)"
      ],
      "metadata": {
        "id": "gbv8n50ucK3Z",
        "trusted": true
      },
      "execution_count": null,
      "outputs": []
    },
    {
      "cell_type": "markdown",
      "source": [
        "# **Evaluating ResNet50V2**"
      ],
      "metadata": {
        "id": "ceXxD02Ig7ia"
      }
    },
    {
      "cell_type": "code",
      "source": [
        "ResNet50V2_Score = ResNet50V2_Model.evaluate(test_data)\n",
        "\n",
        "print(\"    Test Loss: {:.5f}\".format(ResNet50V2_Score[0]))\n",
        "print(\"Test Accuracy: {:.2f}%\".format(ResNet50V2_Score[1] * 100))"
      ],
      "metadata": {
        "id": "wqh3HHlIcK3Z",
        "trusted": true
      },
      "execution_count": null,
      "outputs": []
    },
    {
      "cell_type": "code",
      "source": [
        "plot_curves(ResNet50V2_history)"
      ],
      "metadata": {
        "id": "jazSl8xhcK3Z",
        "trusted": true
      },
      "execution_count": null,
      "outputs": []
    },
    {
      "cell_type": "code",
      "source": [
        "ResNet50V2_Predictions = ResNet50V2_Model.predict(test_data)\n",
        "\n",
        "# Choosing highest probalbilty class in every prediction\n",
        "ResNet50V2_Predictions = np.argmax(ResNet50V2_Predictions, axis=1)"
      ],
      "metadata": {
        "id": "qCxEBJyAcK3Z",
        "trusted": true
      },
      "execution_count": null,
      "outputs": []
    },
    {
      "cell_type": "code",
      "source": [
        "fig , ax= plt.subplots(figsize=(15,10))\n",
        "\n",
        "cm=confusion_matrix(test_data.labels, ResNet50V2_Predictions)\n",
        "\n",
        "sns.heatmap(cm, annot=True, fmt='g', ax=ax)\n",
        "\n",
        "ax.set_xlabel('Predicted labels',fontsize=15, fontweight='bold')\n",
        "ax.set_ylabel('True labels', fontsize=15, fontweight='bold')\n",
        "ax.set_title('ResNet50V2 Confusion Matrix', fontsize=20, fontweight='bold')"
      ],
      "metadata": {
        "id": "Eiirk0QmcK3a",
        "trusted": true
      },
      "execution_count": null,
      "outputs": []
    },
    {
      "cell_type": "markdown",
      "source": [
        "# **Visualizing Predictions**"
      ],
      "metadata": {
        "id": "9-KBB9vecK3a"
      }
    },
    {
      "cell_type": "code",
      "source": [
        "Emotion_Classes = ['Angry',\n",
        "                  'Disgust',\n",
        "                  'Fear',\n",
        "                  'Happy',\n",
        "                  'Neutral',\n",
        "                  'Sad',\n",
        "                  'Surprise']"
      ],
      "metadata": {
        "id": "MZNLFgF0cK3a",
        "trusted": true
      },
      "execution_count": null,
      "outputs": []
    },
    {
      "cell_type": "code",
      "source": [
        "# Shuffling Test Data to show diffrent classes\n",
        "test_preprocessor = ImageDataGenerator(\n",
        "        rescale = 1 / 255.,\n",
        "    )\n",
        "\n",
        "test_generator = test_preprocessor.flow_from_directory(\n",
        "    test_data_path,\n",
        "    class_mode=\"categorical\",\n",
        "    target_size=(img_shape,img_shape),\n",
        "    color_mode=\"rgb\",\n",
        "    shuffle=True,\n",
        "    batch_size=batch_size,\n",
        ")"
      ],
      "metadata": {
        "id": "lfdvcajhcK3a",
        "trusted": true
      },
      "execution_count": null,
      "outputs": []
    },
    {
      "cell_type": "markdown",
      "source": [
        "**CNN Predictions**"
      ],
      "metadata": {
        "id": "v_55MRiycK3a"
      }
    },
    {
      "cell_type": "code",
      "source": [
        "# Display 10 random pictures from the dataset with their labels\n",
        "\n",
        "Random_batch = np.random.randint(0, len(test_generator) - 1)\n",
        "\n",
        "Random_Img_Index = np.random.randint(0, batch_size - 1 , 10)\n",
        "\n",
        "fig, axes = plt.subplots(nrows=2, ncols=5, figsize=(25, 10),\n",
        "                        subplot_kw={'xticks': [], 'yticks': []})\n",
        "\n",
        "for i, ax in enumerate(axes.flat):\n",
        "\n",
        "    Random_Img = test_generator[Random_batch][0][Random_Img_Index[i]]\n",
        "\n",
        "    Random_Img_Label = np.argmax(test_generator[Random_batch][1][Random_Img_Index[i]])\n",
        "\n",
        "    Model_Prediction = np.argmax(CNN_Model.predict( tf.expand_dims(Random_Img, axis=0) , verbose=0))\n",
        "\n",
        "    ax.imshow(Random_Img)\n",
        "\n",
        "    if Emotion_Classes[Random_Img_Label] == Emotion_Classes[Model_Prediction]:\n",
        "          color = \"green\"\n",
        "    else:\n",
        "          color = \"red\"\n",
        "    ax.set_title(f\"True: {Emotion_Classes[Random_Img_Label]}\\nPredicted: {Emotion_Classes[Model_Prediction]}\", color=color)\n",
        "plt.show()\n",
        "plt.tight_layout()"
      ],
      "metadata": {
        "id": "WPUMun3Yg4ip",
        "trusted": true
      },
      "execution_count": null,
      "outputs": []
    },
    {
      "cell_type": "markdown",
      "source": [
        "**ResNet50V2 Predictions**"
      ],
      "metadata": {
        "id": "-HkrH9xocK3b"
      }
    },
    {
      "cell_type": "code",
      "source": [
        "# Display 10 random pictures from the dataset with their labels\n",
        "\n",
        "Random_batch = np.random.randint(0, len(test_generator) - 1)\n",
        "\n",
        "Random_Img_Index = np.random.randint(0, batch_size - 1 , 10)\n",
        "\n",
        "fig, axes = plt.subplots(nrows=2, ncols=5, figsize=(25, 10),\n",
        "                        subplot_kw={'xticks': [], 'yticks': []})\n",
        "\n",
        "for i, ax in enumerate(axes.flat):\n",
        "\n",
        "    Random_Img = test_generator[Random_batch][0][Random_Img_Index[i]]\n",
        "\n",
        "    Random_Img_Label = np.argmax(test_generator[Random_batch][1][Random_Img_Index[i]])\n",
        "\n",
        "    Model_Prediction = np.argmax(ResNet50V2_Model.predict( tf.expand_dims(Random_Img, axis=0) , verbose=0))\n",
        "\n",
        "    ax.imshow(Random_Img)\n",
        "\n",
        "    if Emotion_Classes[Random_Img_Label] == Emotion_Classes[Model_Prediction]:\n",
        "          color = \"green\"\n",
        "    else:\n",
        "          color = \"red\"\n",
        "    ax.set_title(f\"True: {Emotion_Classes[Random_Img_Label]}\\nPredicted: {Emotion_Classes[Model_Prediction]}\", color=color)\n",
        "plt.show()\n",
        "plt.tight_layout()"
      ],
      "metadata": {
        "id": "P5XxFfFLcK3b",
        "trusted": true
      },
      "execution_count": null,
      "outputs": []
    },
    {
      "cell_type": "markdown",
      "source": [
        "# **Music Player**"
      ],
      "metadata": {
        "id": "itHZWvvzcK3d"
      }
    },
    {
      "cell_type": "code",
      "source": [
        "Music_Player = pd.read_csv(\"../input/spotify-music-data-to-identify-the-moods/data_moods.csv\")\n",
        "Music_Player = Music_Player[['name','artist','mood','popularity']]\n",
        "Music_Player.head()"
      ],
      "metadata": {
        "id": "Clp4WedccK3d",
        "trusted": true
      },
      "execution_count": null,
      "outputs": []
    },
    {
      "cell_type": "code",
      "source": [
        "Music_Player[\"mood\"].value_counts()"
      ],
      "metadata": {
        "id": "j0Dqm_PccK3d",
        "trusted": true
      },
      "execution_count": null,
      "outputs": []
    },
    {
      "cell_type": "code",
      "source": [
        "Music_Player[\"popularity\"].value_counts()"
      ],
      "metadata": {
        "id": "UzlWiV9AcK3e",
        "trusted": true
      },
      "execution_count": null,
      "outputs": []
    },
    {
      "cell_type": "code",
      "source": [
        "Play = Music_Player[Music_Player['mood'] =='Calm' ]\n",
        "Play = Play.sort_values(by=\"popularity\", ascending=False)\n",
        "Play = Play[:5].reset_index(drop=True)\n",
        "display(Play)"
      ],
      "metadata": {
        "id": "_wFUR5WCcK3e",
        "trusted": true
      },
      "execution_count": null,
      "outputs": []
    },
    {
      "cell_type": "code",
      "source": [
        "# Making Songs Recommendations Based on Predicted Class\n",
        "def Recommend_Songs(pred_class):\n",
        "\n",
        "    if( pred_class=='Disgust' ):\n",
        "\n",
        "        Play = Music_Player[Music_Player['mood'] =='Sad' ]\n",
        "        Play = Play.sort_values(by=\"popularity\", ascending=False)\n",
        "        Play = Play[:5].reset_index(drop=True)\n",
        "        display(Play)\n",
        "\n",
        "    if( pred_class=='Happy' or pred_class=='Sad' ):\n",
        "\n",
        "        Play = Music_Player[Music_Player['mood'] =='Happy' ]\n",
        "        Play = Play.sort_values(by=\"popularity\", ascending=False)\n",
        "        Play = Play[:5].reset_index(drop=True)\n",
        "        display(Play)\n",
        "\n",
        "    if( pred_class=='Fear' or pred_class=='Angry' ):\n",
        "\n",
        "        Play = Music_Player[Music_Player['mood'] =='Calm' ]\n",
        "        Play = Play.sort_values(by=\"popularity\", ascending=False)\n",
        "        Play = Play[:5].reset_index(drop=True)\n",
        "        display(Play)\n",
        "\n",
        "    if( pred_class=='Surprise' or pred_class=='Neutral' ):\n",
        "\n",
        "        Play = Music_Player[Music_Player['mood'] =='Energetic' ]\n",
        "        Play = Play.sort_values(by=\"popularity\", ascending=False)\n",
        "        Play = Play[:5].reset_index(drop=True)\n",
        "        display(Play)"
      ],
      "metadata": {
        "id": "G9jZq-NIcK3e",
        "trusted": true
      },
      "execution_count": null,
      "outputs": []
    },
    {
      "cell_type": "markdown",
      "source": [
        "# **Predicting New Images**"
      ],
      "metadata": {
        "id": "Lzx3wYuScK3b"
      }
    },
    {
      "cell_type": "markdown",
      "source": [
        "**Downloading OpenCV haarcascade frontalface Detection**"
      ],
      "metadata": {
        "id": "vKPKFGZGPAgK"
      }
    },
    {
      "cell_type": "code",
      "source": [
        "!wget https://raw.githubusercontent.com/opencv/opencv/master/data/haarcascades/haarcascade_frontalface_default.xml\n",
        "\n",
        "faceCascade = cv2.CascadeClassifier(\"haarcascade_frontalface_default.xml\")"
      ],
      "metadata": {
        "id": "HELIc8QYcK3b",
        "trusted": true
      },
      "execution_count": null,
      "outputs": []
    },
    {
      "cell_type": "code",
      "source": [
        "def load_and_prep_image(filename, img_shape = 224):\n",
        "\n",
        "    img = cv2.imread(filename)\n",
        "\n",
        "    GrayImg = cv2.cvtColor(img,cv2.COLOR_BGR2GRAY)\n",
        "\n",
        "    faces = faceCascade.detectMultiScale(GrayImg, 1.1, 4)\n",
        "\n",
        "    for x,y,w,h in faces:\n",
        "\n",
        "        roi_GrayImg = GrayImg[ y: y + h , x: x + w ]\n",
        "        roi_Img = img[ y: y + h , x: x + w ]\n",
        "\n",
        "        cv2.rectangle(img, (x,y), (x+w, y+h), (0, 255, 0), 2)\n",
        "\n",
        "        plt.imshow(cv2.cvtColor(img,cv2.COLOR_BGR2RGB))\n",
        "\n",
        "        faces = faceCascade.detectMultiScale(roi_Img, 1.1, 4)\n",
        "\n",
        "        if len(faces) == 0:\n",
        "            print(\"No Faces Detected\")\n",
        "        else:\n",
        "            for (ex, ey, ew, eh) in faces:\n",
        "                img = roi_Img[ ey: ey+eh , ex: ex+ew ]\n",
        "\n",
        "    RGBImg = cv2.cvtColor(img,cv2.COLOR_BGR2RGB)\n",
        "\n",
        "    RGBImg= cv2.resize(RGBImg,(img_shape,img_shape))\n",
        "\n",
        "    RGBImg = RGBImg/255.\n",
        "\n",
        "    return RGBImg"
      ],
      "metadata": {
        "id": "tc6rfKoZcK3b",
        "trusted": true
      },
      "execution_count": null,
      "outputs": []
    },
    {
      "cell_type": "code",
      "source": [
        "def pred_and_plot(filename, class_names):\n",
        "\n",
        "    # Import the target image and preprocess it\n",
        "    img = load_and_prep_image(filename)\n",
        "\n",
        "    # Make a prediction\n",
        "    pred = ResNet50V2_Model.predict(np.expand_dims(img, axis=0))\n",
        "\n",
        "    # Get the predicted class\n",
        "    pred_class = class_names[pred.argmax()]\n",
        "\n",
        "    # Plot the image and predicted class\n",
        "    #plt.imshow(img)\n",
        "    plt.title(f\"Prediction: {pred_class}\")\n",
        "    plt.axis(False);\n",
        "\n",
        "    Recommend_Songs(pred_class)"
      ],
      "metadata": {
        "id": "sVYUG7rKcK3c",
        "trusted": true
      },
      "execution_count": null,
      "outputs": []
    },
    {
      "cell_type": "code",
      "source": [
        "pred_and_plot(\"../input/fer2013/test/sad/PrivateTest_13472479.jpg\", Emotion_Classes) # with CNN"
      ],
      "metadata": {
        "id": "3do329gHcK3c",
        "trusted": true
      },
      "execution_count": null,
      "outputs": []
    },
    {
      "cell_type": "code",
      "source": [
        "# Downloading Image to Test On\n",
        "!wget -c \"https://pbs.twimg.com/media/EEY3RFFWwAAc-qm.jpg\" -O sad.jpg"
      ],
      "metadata": {
        "id": "sQsZN5zVg7if",
        "trusted": true
      },
      "execution_count": null,
      "outputs": []
    },
    {
      "cell_type": "code",
      "source": [
        "pred_and_plot(\"./happy.jpg\", Emotion_Classes) # with CNN"
      ],
      "metadata": {
        "id": "Iq4tuqLccK3c",
        "trusted": true
      },
      "execution_count": null,
      "outputs": []
    },
    {
      "cell_type": "code",
      "source": [
        "pred_and_plot(\"../input/fer2013/test/angry/PrivateTest_22126718.jpg\", Emotion_Classes) # with ResNet50V2"
      ],
      "metadata": {
        "id": "Gj1DR9_2VIqG",
        "trusted": true
      },
      "execution_count": null,
      "outputs": []
    },
    {
      "cell_type": "code",
      "source": [
        "# Downloading Image to Test On\n",
        "!wget -c \"https://pbs.twimg.com/profile_images/758370732413947904/xYB5Q3FY_400x400.jpg\" -O happy.jpg"
      ],
      "metadata": {
        "id": "ebnQADoXg7ih",
        "trusted": true
      },
      "execution_count": null,
      "outputs": []
    },
    {
      "cell_type": "code",
      "source": [
        "pred_and_plot(\"./sad.jpg\", Emotion_Classes) # with ResNet50V2"
      ],
      "metadata": {
        "id": "i-nw1MEYcK3c",
        "trusted": true
      },
      "execution_count": null,
      "outputs": []
    },
    {
      "cell_type": "code",
      "source": [
        "CNN_Model.save(\"CNN_Model.h5\")\n",
        "\n",
        "ResNet50V2_Model.save(\"ResNet50V2_Model.h5\")"
      ],
      "metadata": {
        "id": "L5YUzcKgg7ih",
        "trusted": true
      },
      "execution_count": null,
      "outputs": []
    }
  ]
}